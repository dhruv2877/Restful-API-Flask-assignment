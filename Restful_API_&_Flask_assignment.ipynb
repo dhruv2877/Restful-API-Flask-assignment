{
  "nbformat": 4,
  "nbformat_minor": 0,
  "metadata": {
    "colab": {
      "provenance": []
    },
    "kernelspec": {
      "name": "python3",
      "display_name": "Python 3"
    },
    "language_info": {
      "name": "python"
    }
  },
  "cells": [
    {
      "cell_type": "markdown",
      "source": [
        "# ***Restful API & Flask***\n",
        "* Theory Questions"
      ],
      "metadata": {
        "id": "0P26wtjxhWbX"
      }
    },
    {
      "cell_type": "markdown",
      "source": [
        "1. What is a RESTful API?\n",
        " *  A RESTful API (Representational State Transfer API) is a web service that follows the architectural principles of REST (Representational State Transfer). REST is a set of constraints that ensures scalable, stateless, and standardized communication between clients and servers over the internet using HTTP methods.\n",
        "\n",
        "  Key Characteristics of a RESTful API:\n",
        "*  Statelessness: Each request from a client to the server must contain all the information needed to process the request.\n",
        "*  Client-Server Architecture: The client and server are independent, meaning the front end and back end can evolve separately.\n",
        "*  Uniform Interface: Resources are accessed through standard URIs, and operations are performed using standard HTTP methods.\n",
        "*  Cacheability: Responses can be cached to improve performance and reduce server load.\n",
        "* Layered System: A REST API can have multiple layers (e.g., security, load balancing, proxies) that work independently without affecting the client-server communication.\n",
        "\n",
        "* Resource-Based Structure: Data and functionalities are treated as resources that can be manipulated via HTTP methods.\n",
        "\n",
        "  "
      ],
      "metadata": {
        "id": "bBVT-aQBhmvA"
      }
    },
    {
      "cell_type": "markdown",
      "source": [
        "2. Explain the concept of API specification.\n",
        "\n",
        " *  An API specification is like an instruction manual for an API. It clearly defines how different software applications can communicate with each other using the API. It lays out what requests can be made, how to make them, and what responses to expect—ensuring that developers using the API know exactly how it works without needing to see its internal code.\n",
        "\n",
        " It ensures that all API users follow the same rules, avoiding miscommunication, makes it easier for different applications, written in different languages, to integrate smoothly, and a well-defined API can be used by many teams, businesses, and applications without confusion.\n",
        "\n"
      ],
      "metadata": {
        "id": "e7mbjLH7jSrP"
      }
    },
    {
      "cell_type": "markdown",
      "source": [
        "3. What is Flask, and why is it popular for building APIs?\n",
        " *  Flask is a lightweight and flexible web framework for Python that is used to build web applications, including RESTful APIs. It is designed to be simple and easy to use while providing enough features for developing scalable applications. Flask follows the WSGI (Web Server Gateway Interface) standard and does not come with built-in tools like a database or authentication system, giving developers the freedom to choose their own components.\n",
        "\n",
        " Uses of Flask and reasons of it's popularity in building APIs:\n",
        "\n",
        "*  Flask makes it easy to create APIs that interact with databases, process data, and serve it in formats like JSON.\n",
        "*  Due to its minimalistic nature, developers can quickly prototype and deploy applications.\n",
        "*  Unlike Django, Flask does not force a specific project structure, making it highly customizable.\n",
        "*  It allows developers to add only the libraries and features they need, keeping the application lean.\n",
        "*   Flask is commonly used to deploy ML models as APIs for real-world applications."
      ],
      "metadata": {
        "id": "XRzEj0wJkNxC"
      }
    },
    {
      "cell_type": "markdown",
      "source": [
        "4. What is routing in Flask?\n",
        " *  Routing in Flask refers to the process of defining URL paths that determine how the application responds to client requests. In a Flask web application, routing is essential for mapping specific URLs to Python functions, known as view functions, which handle the request and return a response.\n",
        "\n",
        "When a user accesses a specific URL, Flask uses the defined routing rules to call the appropriate function. Routes are defined using the @app.route() decorator, which binds a function to a specific URL pattern.\n",
        "\n",
        "\n"
      ],
      "metadata": {
        "id": "Xv17jdppnfH4"
      }
    },
    {
      "cell_type": "markdown",
      "source": [
        "5.  How do you create a simple Flask application?\n",
        " *  Creating a simple Flask application involves setting up a basic Python script that initializes a Flask instance, defines routes, and runs a web server to handle incoming HTTP requests. Flask is a lightweight web framework that simplifies building web applications by providing tools for routing, request handling, and response generation.\n",
        "\n",
        "\n",
        " To create a Flask application, follow these steps:\n",
        "\n",
        "*  Install Flask: Ensure Flask is installed using pip install flask.\n",
        "*  Initialize Flask: Import Flask and create an instance of the Flask class.\n",
        "*  Define Routes: Use the @app.route() decorator to define URL mappings to specific functions.\n",
        "\n",
        "*  Run the Application: Use app.run() to start the web server.\n",
        "\n"
      ],
      "metadata": {
        "id": "Y533r9rFn4Lw"
      }
    },
    {
      "cell_type": "markdown",
      "source": [
        "6. What are HTTP methods used in RESTful APIs?\n",
        " *  HTTP methods (HTTP verbs), define the types of operations that can be performed on resources in a RESTful API. These methods allow clients to interact with the server in a structured way, ensuring data can be retrieved, modified, or deleted as needed.\n",
        "\n",
        " The most commonly used HTTP methods in RESTful APIs include:\n",
        "\n",
        "* GET: Used to retrieve data from the server. It is a read-only operation and does not modify any resource.\n",
        "\n",
        "* POST: Used to send data to the server to create a new resource.\n",
        "\n",
        "* PUT: Used to update an existing resource or create a new one if it does not exist.\n",
        "\n",
        "* PATCH: Used to partially update an existing resource.\n",
        "\n",
        "* DELETE: Used to remove a specified resource from the server.\n",
        "\n",
        "* HEAD: Similar to GET but only retrieves the headers of a response, without the body.\n",
        "\n",
        "* OPTIONS: Used to retrieve the allowed HTTP methods for a specific resource.\n",
        "\n"
      ],
      "metadata": {
        "id": "b8LVptProhXz"
      }
    },
    {
      "cell_type": "markdown",
      "source": [
        "7. What is the purpose of the @app.route() decorator in Flask?\n",
        " *  The @app.route() decorator in Flask is used to define URL routes that map to specific view functions. It enables the Flask application to handle different HTTP requests and return appropriate responses based on the requested URL. Routing is a crucial part of web development because it allows users to navigate through a web application by accessing different URLs.\n",
        "\n",
        "When a user accesses a specific URL in a Flask application, the @app.route() decorator tells Flask which function should be executed to handle the request.\n",
        "\n",
        "Purpose of @app.route() in Flask:\n",
        "\n",
        "* It allows developers to associate specific URLs with Python functions that execute when the route is accessed.\n",
        "\n",
        "* By default, Flask routes handle only GET requests, but the methods parameter can be used to specify additional HTTP methods (such as POST, PUT, DELETE, etc.).\n",
        "\n",
        "* Flask allows routes to accept dynamic parameters in the URL, enabling flexibility in handling user-specific requests.\n",
        "\n",
        "* Using @app.route() provides a clean and structured way to define URL mappings.\n",
        "\n",
        "* The decorator makes it easy to build a fully functional web application with minimal effort.\n",
        "\n"
      ],
      "metadata": {
        "id": "3bupEx1XpOLS"
      }
    },
    {
      "cell_type": "markdown",
      "source": [
        "8. What is the difference between GET and POST HTTP methods?\n",
        " *  HTTP (Hypertext Transfer Protocol) defines various methods for communication between clients and servers. The GET and POST methods are two of the most commonly used HTTP request methods, each serving different purposes in web applications.\n",
        "\n",
        "* GET Method: The GET method is used to request data from a server. It is primarily used to retrieve information without modifying any resource on the server. GET requests are idempotent, meaning multiple identical requests should have the same effect as a single request.\n",
        "\n",
        "* POST Method: The POST method is used to send data to the server for processing. It is commonly used for submitting forms, uploading files, and making changes to the database. POST requests are not idempotent, as each request may modify the state of the server.\n",
        "\n",
        "Key Differences between GET and POST:\n",
        "\n",
        "* Purpose: GET is used to fetch data from the server, while POST is used to send data to the server for processing.\n",
        "\n",
        "\n",
        "* Data Handling: GET sends data in the URL as query parameters, whereas POST sends data in the request body.\n",
        "\n",
        "\n",
        "* Visibility: GET request parameters are visible in the URL, while POST request data remains hidden.\n",
        "\n",
        "* Security: GET is less secure as data is stored in browser history, whereas POST is more secure since data is not logged in URLs.\n",
        "\n",
        "\n",
        "* Caching: GET requests can be cached by browsers, but POST requests are typically not cached.\n",
        "\n",
        "* Idempotency: GET is idempotent, meaning multiple identical requests have the same effect, while POST is non-idempotent and may modify the server state.\n",
        "\n",
        "* Length Restrictions: GET has length limitations due to URL constraints, whereas POST has no significant restrictions.\n",
        "\n",
        "\n",
        "\n"
      ],
      "metadata": {
        "id": "w7ZpYMmFqHyu"
      }
    },
    {
      "cell_type": "markdown",
      "source": [
        "9. How do you handle errors in Flask APIs?\n",
        " *  Error handling in Flask APIs ensures that the application responds appropriately when something goes wrong, such as missing resources, invalid requests, or internal server issues. Flask provides built-in mechanisms for handling errors using error handlers, HTTP status codes, and exception handling.\n",
        "\n",
        "Ways to Handle Errors in Flask APIs:\n",
        "\n",
        "*   Return appropriate status codes like 400 Bad Request, 404 Not Found, and 500 Internal Server Error to indicate the type of error.\n",
        "\n",
        "* The abort() function stops request execution and sends an error response with a specific status code.\n",
        "\n",
        "*  Flask allows defining custom error handlers using the @app.errorhandler() decorator to return a structured JSON response.\n",
        "\n",
        "* Exception handling can catch runtime errors and return meaningful error messages instead of crashing the application.\n",
        "\n",
        "* Use Flask’s logging module to record errors for debugging and monitoring."
      ],
      "metadata": {
        "id": "igxMV2HCtc5g"
      }
    },
    {
      "cell_type": "markdown",
      "source": [
        "10. How do you connect Flask to a SQL database?\n",
        "\n",
        " *  Flask connects to a SQL database using extensions like Flask-SQLAlchemy, which provides an Object Relational Mapper (ORM) for interacting with databases using Python code instead of raw SQL queries. Flask can also connect to databases directly using libraries like sqlite3 for SQLite, psycopg2 for PostgreSQL, or mysql-connector-python for MySQL.\n",
        "\n",
        " Steps to Connect Flask to a SQL Database:\n",
        "* Install Flask-SQLAlchemy: Install the extension using pip install flask-sqlalchemy.\n",
        "\n",
        "* Configure Database URI: Set the SQLALCHEMY_DATABASE_URI in the Flask app to specify the database location.\n",
        "\n",
        "* Initialize the Database: Create a SQLAlchemy instance and associate it with the Flask app.\n",
        "\n",
        "* Define Models: Use Python classes to represent database tables.\n",
        "\n",
        "* Create and Interact with Tables: Use SQLAlchemy’s methods to create, insert, query, and update data.\n",
        "\n",
        "  "
      ],
      "metadata": {
        "id": "mFSvFPVVusvn"
      }
    },
    {
      "cell_type": "markdown",
      "source": [
        "11. What is the role of Flask-SQLAlchemy?\n",
        "\n",
        " *  Flask-SQLAlchemy is an extension for Flask that integrates SQLAlchemy, a powerful Object Relational Mapper (ORM), with Flask applications. It simplifies database interactions by allowing developers to use Python classes and methods instead of writing raw SQL queries. This extension helps in managing database connections, defining models (tables), executing queries, and handling migrations efficiently.\n",
        "\n",
        "Role of Flask-SQLAlchemy in Flask Applications:\n",
        "\n",
        "*  Provides an easy-to-use ORM for interacting with databases without raw SQL.\n",
        "* Automatically handles database connections and sessions.\n",
        "* Tables and relationships are created using class-based models.\n",
        "* Works with SQLite, PostgreSQL, MySQL, and other SQL databases.\n",
        "* Can be used with Flask-Migrate for seamless schema updates.\n",
        "* Keeps the application structured and avoids complex SQL queries."
      ],
      "metadata": {
        "id": "9-5QD8jgvumv"
      }
    },
    {
      "cell_type": "markdown",
      "source": [
        "12. What are Flask Blueprints, and how are they useful?\n",
        " *  Flask Blueprints are a feature that allows developers to organize large Flask applications into smaller, reusable modules. Instead of defining all routes, views, and logic inside a single app.py file, Blueprints enable the separation of different functionalities into independent modules, making the application more structured, scalable, and maintainable.\n",
        "\n",
        " uses of flask blueprints:\n",
        "\n",
        "* Breaks the application into multiple components for better organization.\n",
        "\n",
        "* Common functionalities (e.g., authentication, user management) can be reused in different projects.\n",
        "\n",
        "* Each Blueprint handles a specific feature, reducing code complexity\n",
        "* Each Blueprint has its own routes, making URL management more structured.\n",
        "* Multiple developers can work on different Blueprints without conflicts."
      ],
      "metadata": {
        "id": "r3_fYv6Zwzec"
      }
    },
    {
      "cell_type": "markdown",
      "source": [
        "13. What is the purpose of Flask's request object?\n",
        " * Flask’s request object is a built-in feature that allows developers to access and handle all incoming HTTP request data sent by a client (such as a web browser or an API consumer). Whenever a user submits a form, sends a JSON payload, passes query parameters in a URL, uploads a file, or interacts with the application in any way, the request object captures and processes this data.\n",
        "\n",
        "This makes it a fundamental part of Flask web applications, as it enables developers to build dynamic, interactive, and user-driven experiences.\n",
        "\n",
        "Purpose of Flask's request Object:\n",
        "\n",
        "* When users submit a form on a webpage, Flask can retrieve the input values using request.form.\n",
        "\n",
        "* Query parameters are sent through the URL to pass data without requiring a form submission.\n",
        "\n",
        "* Flask’s request.json method allows handling JSON data in API-based applications.\n",
        "\n",
        "* Flask can read HTTP headers and cookies, which helps in authentication and security.\n",
        "\n",
        "* Flask allows users to upload files using request.files.\n",
        "\n"
      ],
      "metadata": {
        "id": "3fiRLvTgx_fO"
      }
    },
    {
      "cell_type": "markdown",
      "source": [
        "14. How do you create a RESTful API endpoint using Flask  ?\n",
        " *  A RESTful API (Representational State Transfer API) in Flask is a web service that allows clients (such as web applications, mobile apps, or other servers) to communicate with the server using HTTP requests. These APIs follow the REST architecture, where different HTTP methods (GET, POST, PUT, DELETE) are used to perform operations on resources.\n",
        "\n",
        "Steps to Create a RESTful API in Flask:\n",
        "\n",
        "* Set up Flask: Import Flask and create an app instance.\n",
        "\n",
        "* Define Routes: Use Flask’s @app.route() decorator to create API endpoints.\n",
        "\n",
        "* Use HTTP Methods: Implement GET, POST, PUT, and DELETE methods for CRUD operations.\n",
        "\n",
        "* Handle Requests and Responses: Process client requests and return JSON responses.\n",
        "\n",
        "* Run the Application: Start the Flask server to make the API accessible.\n",
        "\n"
      ],
      "metadata": {
        "id": "nj0fTaljzXiA"
      }
    },
    {
      "cell_type": "markdown",
      "source": [
        "15. What is the purpose of Flask's jsonify() function ?\n",
        " *  The jsonify() function in Flask is used to convert Python data structures (such as dictionaries and lists) into a JSON (JavaScript Object Notation) formatted response. It ensures that the response is properly formatted as JSON, sets the appropriate Content-Type header to \"application/json\", and makes it easier to return structured data from Flask routes.\n",
        "\n"
      ],
      "metadata": {
        "id": "vYhTFdkQ6uWg"
      }
    },
    {
      "cell_type": "markdown",
      "source": [
        "16.  Explain Flask’s url_for() function.\n",
        " *  The url_for() function in Flask is a built-in utility that dynamically generates URLs based on the names of view functions rather than hardcoding them. This function plays a crucial role in making web applications more maintainable, flexible, and less error-prone.\n",
        "\n",
        "Instead of writing URLs manually like / profile/123, url_for() allows developers to reference the function name (url_for('profile', user_id=123)) and automatically generates the correct URL. This approach ensures that if the route ever changes, all references to it update automatically, reducing the risk of broken links."
      ],
      "metadata": {
        "id": "-bqdJB3S7A5Z"
      }
    },
    {
      "cell_type": "markdown",
      "source": [
        "17.  How does Flask handle static files (CSS, JavaScript, etc.)?\n",
        " *  Flask handles static files like CSS, JavaScript, and images through a built-in mechanism that maps a /static/ URL path to a dedicated folder called static in the project directory. By default, Flask automatically serves any files stored inside the static folder, allowing developers to link stylesheets, scripts, and images to their web pages without additional configuration.\n",
        "\n",
        "This built-in static file handling system simplifies frontend integration, making it easy to use external stylesheets, JavaScript libraries, and images while maintaining a well-structured project layout\n",
        "\n",
        "Flask handling static files by:\n",
        "\n",
        "*  Flask expects all static files (CSS, JavaScript, images, fonts) to be placed inside a folder named static.\n",
        "* Flask automatically maps /static/ to the static directory, making files accessible via url_for('static', filename='file_name').\n",
        "*  Flask serves static files efficiently in development, and for production, it is recommended to use a web server like Nginx or Apache.\n",
        "* Static files can be referenced in Jinja templates using url_for(), ensuring maintainability and flexibility.\n",
        "\n"
      ],
      "metadata": {
        "id": "lMUI89OR7mVr"
      }
    },
    {
      "cell_type": "markdown",
      "source": [
        "18. What is an API specification, and how does it help in building a Flask API?\n",
        "\n",
        " *  An API specification is like an instruction manual for an API. It clearly defines how different software applications can communicate with each other using the API. It lays out what requests can be made, how to make them, and what responses to expect—ensuring that developers using the API know exactly how it works without needing to see its internal code.\n",
        "\n",
        " It ensures that all API users follow the same rules, avoiding miscommunication, makes it easier for different applications, written in different languages, to integrate smoothly, and a well-defined API can be used by many teams, businesses, and applications without confusion.\n",
        "\n",
        "Ways an API Specification Helps in Building a Flask API:\n",
        "\n",
        "* Ensures all endpoints follow a uniform structure, making API usage predictable.\n",
        "* Frontend and backend teams can work in parallel using the API specification as a reference.\n",
        "* Helps developers understand how to use the API, reducing the need for direct communication.\n",
        "* Clearly defined responses and error messages make testing and debugging more efficient.\n",
        "* Defines authentication mechanisms like JWT, OAuth, or API keys to protect endpoints.\n",
        "* Enables seamless integration with third-party services by ensuring the API follows industry standards.\n",
        "\n",
        "\n"
      ],
      "metadata": {
        "id": "p_bV_SLq8m0B"
      }
    },
    {
      "cell_type": "markdown",
      "source": [
        "19. What are HTTP status codes, and why are they important in a Flask API?\n",
        " *  HTTP status codes are standardized three-digit numerical responses sent by a web server to indicate the result of an HTTP request. These codes help both clients (e.g., browsers, frontend applications, or other APIs) and developers understand whether a request was successfully processed, encountered an error, or requires further action.\n",
        "\n",
        "Importance of HTTP status codes in a flask API:\n",
        "\n",
        "* They clearly indicate success, failure, or redirection without requiring additional message parsing.\n",
        "* Helps clients distinguish between different types of failures (e.g., client-side vs. server-side errors).\n",
        "*  Simplifies API monitoring and troubleshooting by categorizing errors.\n",
        "*  Allows frontend applications and other APIs to automate handling based on response codes."
      ],
      "metadata": {
        "id": "Wi1tlGpn-FWt"
      }
    },
    {
      "cell_type": "markdown",
      "source": [
        "20. How do you handle POST requests in Flask?\n",
        " *  In Flask, POST requests are used to send data from the client to the server, typically to create or update resources. These requests usually contain form data, JSON payloads, or file uploads. Flask handles POST requests using the @app.route() decorator with methods=['POST'], and the request data can be accessed using Flask’s request object (request.form for form data, request.json for JSON data, etc.).\n",
        "\n",
        " Steps to handle POST request in Flask:\n",
        "\n",
        "* Step 1: Import necessary modules (Flask, request, jsonify).\n",
        "*  Step 2: Define a route with methods=['POST'].\n",
        "*  Step 3: Extract data from the request.\n",
        "* Step 4: Process the data (store in a database, validate, etc.).\n",
        "* Step 5: Send a proper response with an HTTP status code."
      ],
      "metadata": {
        "id": "yEs8Zjrt-t36"
      }
    },
    {
      "cell_type": "markdown",
      "source": [
        "21. How would you secure a Flask API?\n",
        " *  Securing a Flask API is crucial to prevent unauthorized access, data breaches, and cyberattacks. A Flask API can be secured through authentication, authorization, input validation, using HTTPS in place of HTTP, rate limiting, and secure database practices. Proper security measures ensure that only authenticated users can access sensitive data while preventing common vulnerabilities like SQL Injection, Cross-Site Scripting (XSS), and Cross-Site Request Forgery (CSRF).\n",
        "\n",
        "Some ways of securirng Flask API:\n",
        "\n",
        "* Use HTTPS Instead of HTTP\n",
        "*  Implement Authentication and Authorization\n",
        "* Prevent SQL Injection\n",
        "* Use Input Validation and Data Sanitization\n",
        "* Implement Rate Limiting to Prevent DDoS Attacks\n",
        "* Protect Against Cross-Site Request Forgery (CSRF)\n",
        "* Restrict CORS (Cross-Origin Resource Sharing)"
      ],
      "metadata": {
        "id": "Qkfpfk9TAHZA"
      }
    },
    {
      "cell_type": "markdown",
      "source": [
        "22. What is the significance of the Flask-RESTful extension?\n",
        " *  Flask-RESTful is an extension for Flask that simplifies the process of building RESTful APIs. It provides a structured way to define API endpoints, handle request parsing, manage responses, and enforce authentication, making Flask more powerful for web services. It is particularly useful when designing APIs that follow REST principles, ensuring scalability and maintainability."
      ],
      "metadata": {
        "id": "qCdSdbseAUNt"
      }
    },
    {
      "cell_type": "markdown",
      "source": [
        "23. What is the role of Flask’s session object?\n",
        " *  Flask’s session object is used to store and manage user-specific data across multiple requests within a web application. Unlike cookies, which store data directly on the client’s browser, the session data in Flask is stored securely on the server (but can also be signed and stored in cookies using Flask’s default configuration). This allows web applications to maintain stateful interactions with users, such as keeping users logged in or tracking their preferences.\n",
        "\n",
        " Roles of flask's session object are:\n",
        "\n",
        "* Maintains User Data Across Requests\n",
        "* Uses Secure Cookie-Based Sessions by Default\n",
        "* Supports Server-Side Session Storage\n",
        "* Can Store Temporary Data\n",
        "* Allows Session Expiry and Auto-Logout\n"
      ],
      "metadata": {
        "id": "dLKFNzbwBQrv"
      }
    },
    {
      "cell_type": "markdown",
      "source": [
        "# Practical Questions"
      ],
      "metadata": {
        "id": "rpcecsedCA6a"
      }
    },
    {
      "cell_type": "code",
      "source": [
        "!pip install flask flask-ngrok pyngrok\n"
      ],
      "metadata": {
        "colab": {
          "base_uri": "https://localhost:8080/"
        },
        "id": "G8FToQxXGSST",
        "outputId": "9bb6a02e-e6f2-49eb-fe39-7c481166f59c"
      },
      "execution_count": null,
      "outputs": [
        {
          "output_type": "stream",
          "name": "stdout",
          "text": [
            "Requirement already satisfied: flask in /usr/local/lib/python3.11/dist-packages (3.1.0)\n",
            "Requirement already satisfied: flask-ngrok in /usr/local/lib/python3.11/dist-packages (0.0.25)\n",
            "Collecting pyngrok\n",
            "  Downloading pyngrok-7.2.3-py3-none-any.whl.metadata (8.7 kB)\n",
            "Requirement already satisfied: Werkzeug>=3.1 in /usr/local/lib/python3.11/dist-packages (from flask) (3.1.3)\n",
            "Requirement already satisfied: Jinja2>=3.1.2 in /usr/local/lib/python3.11/dist-packages (from flask) (3.1.6)\n",
            "Requirement already satisfied: itsdangerous>=2.2 in /usr/local/lib/python3.11/dist-packages (from flask) (2.2.0)\n",
            "Requirement already satisfied: click>=8.1.3 in /usr/local/lib/python3.11/dist-packages (from flask) (8.1.8)\n",
            "Requirement already satisfied: blinker>=1.9 in /usr/local/lib/python3.11/dist-packages (from flask) (1.9.0)\n",
            "Requirement already satisfied: requests in /usr/local/lib/python3.11/dist-packages (from flask-ngrok) (2.32.3)\n",
            "Requirement already satisfied: PyYAML>=5.1 in /usr/local/lib/python3.11/dist-packages (from pyngrok) (6.0.2)\n",
            "Requirement already satisfied: MarkupSafe>=2.0 in /usr/local/lib/python3.11/dist-packages (from Jinja2>=3.1.2->flask) (3.0.2)\n",
            "Requirement already satisfied: charset-normalizer<4,>=2 in /usr/local/lib/python3.11/dist-packages (from requests->flask-ngrok) (3.4.1)\n",
            "Requirement already satisfied: idna<4,>=2.5 in /usr/local/lib/python3.11/dist-packages (from requests->flask-ngrok) (3.10)\n",
            "Requirement already satisfied: urllib3<3,>=1.21.1 in /usr/local/lib/python3.11/dist-packages (from requests->flask-ngrok) (2.3.0)\n",
            "Requirement already satisfied: certifi>=2017.4.17 in /usr/local/lib/python3.11/dist-packages (from requests->flask-ngrok) (2025.1.31)\n",
            "Downloading pyngrok-7.2.3-py3-none-any.whl (23 kB)\n",
            "Installing collected packages: pyngrok\n",
            "Successfully installed pyngrok-7.2.3\n"
          ]
        }
      ]
    },
    {
      "cell_type": "code",
      "source": [
        "#1.   How do you create a basic Flask application?\n",
        "\n",
        "# Import the Flask class\n",
        "from flask import Flask\n",
        "\n",
        "app = Flask(__name__)\n",
        "\n",
        "@app.route('/')  # The '/' means the home page\n",
        "def hello_world():\n",
        "    return 'Hello, World!'  # What gets shown in the browser\n",
        "\n",
        "if __name__ == '__main__':\n",
        "    app.run(debug=True)  # debug=True gives helpful error pages"
      ],
      "metadata": {
        "id": "Kt4lSE60MKT4"
      },
      "execution_count": null,
      "outputs": []
    },
    {
      "cell_type": "code",
      "source": [
        "#2. How do you serve static files like images or CSS in Flask\n",
        "\n",
        "from flask import Flask, send_from_directory\n",
        "import os\n",
        "\n",
        "app = Flask(__name__)\n",
        "\n",
        "# Create a temporary static directory in Colab\n",
        "!mkdir -p static\n",
        "# Create a sample CSS file\n",
        "!echo \"body { background-color: lightblue; }\" > static/style.css\n",
        "\n",
        "@app.route('/')\n",
        "def home():\n",
        "    return \"\"\"\n",
        "    <html>\n",
        "    <head>\n",
        "        <link rel=\"stylesheet\" href=\"/static/style.css\">\n",
        "    </head>\n",
        "    <body>\n",
        "        <h1>My Styled Page</h1>\n",
        "        <p>This page uses a static CSS file!</p>\n",
        "    </body>\n",
        "    </html>\n",
        "    \"\"\"\n",
        "\n",
        "# Route to serve static files\n",
        "@app.route('/static/<path:filename>')\n",
        "def serve_static(filename):\n",
        "    return send_from_directory('static', filename)\n",
        "\n",
        "if __name__ == '__main__':\n",
        "    port = int(os.environ.get('PORT', 5000))\n",
        "    app.run(host='0.0.0.0', port=port)"
      ],
      "metadata": {
        "id": "MbO9RgLHQEQ5"
      },
      "execution_count": null,
      "outputs": []
    },
    {
      "cell_type": "code",
      "source": [
        "#3. How do you define different routes with different HTTP methods in Flask?\n",
        "\n",
        "# Import Flask class from flask module\n",
        "from flask import Flask, request, jsonify\n",
        "\n",
        "# Create a Flask application instance\n",
        "app = Flask(__name__)\n",
        "\n",
        "# Route with GET method (default method)\n",
        "@app.route('/get_example', methods=['GET'])\n",
        "def get_example():\n",
        "    \"\"\"\n",
        "    This route handles GET requests.\n",
        "    Returns a simple message when accessed with GET method.\n",
        "    \"\"\"\n",
        "    return jsonify({\"message\": \"This is a GET request response\", \"method\": \"GET\"})\n",
        "\n",
        "# Route with POST method\n",
        "@app.route('/post_example', methods=['POST'])\n",
        "def post_example():\n",
        "    \"\"\"\n",
        "    This route handles POST requests.\n",
        "    Returns the data sent in the POST request.\n",
        "    \"\"\"\n",
        "    # Get JSON data from the POST request\n",
        "    data = request.get_json()\n",
        "    return jsonify({\n",
        "        \"message\": \"This is a POST request response\",\n",
        "        \"received_data\": data,\n",
        "        \"method\": \"POST\"\n",
        "    })\n",
        "\n",
        "# Route that accepts both GET and POST methods\n",
        "@app.route('/both_methods', methods=['GET', 'POST'])\n",
        "def both_methods():\n",
        "    \"\"\"\n",
        "    This route handles both GET and POST requests.\n",
        "    Returns different responses based on the request method.\n",
        "    \"\"\"\n",
        "    if request.method == 'GET':\n",
        "        return jsonify({\"message\": \"GET request received\"})\n",
        "    elif request.method == 'POST':\n",
        "        return jsonify({\"message\": \"POST request received\", \"data\": request.get_json()})\n",
        "\n",
        "# Run the Flask app (only needed when running directly, not in Colab)\n",
        "if __name__ == '__main__':\n",
        "    app.run(debug=True)"
      ],
      "metadata": {
        "id": "qnyOXu1SQ2ki"
      },
      "execution_count": null,
      "outputs": []
    },
    {
      "cell_type": "code",
      "source": [
        "#4. How do you render HTML templates in Flask?\n",
        "\n",
        "from flask import Flask, render_template\n",
        "\n",
        "app = Flask(__name__)\n",
        "\n",
        "@app.route('/')\n",
        "def index():\n",
        "    name = \"Alice\"  # Data to pass to the template\n",
        "    return render_template('index.html', name=name)\n",
        "\n",
        "if __name__ == '__main__':\n",
        "    app.run(debug=True)\n",
        "\n",
        "# --- Below this line is the HTML template (usually in a separate file 'templates/index.html') ---\n",
        "\"\"\"\n",
        "<!DOCTYPE html>\n",
        "<html>\n",
        "<head>\n",
        "    <title>My Flask App</title>\n",
        "</head>\n",
        "<body>\n",
        "    <h1>Hello, {{ name }}!</h1>\n",
        "</body>\n",
        "</html>\n",
        "\"\"\""
      ],
      "metadata": {
        "id": "63SAr9MHQ4VJ"
      },
      "execution_count": null,
      "outputs": []
    },
    {
      "cell_type": "code",
      "source": [
        "#5. How can you generate URLs for routes in Flask using url_for?\n",
        "\n",
        "from flask import Flask, url_for\n",
        "\n",
        "app = Flask(__name__)\n",
        "\n",
        "@app.route('/')\n",
        "def index():\n",
        "    return 'This is the index page'\n",
        "\n",
        "@app.route('/about')\n",
        "def about():\n",
        "    return 'This is the about page'\n",
        "\n",
        "@app.route('/profile/<username>')\n",
        "def profile(username):\n",
        "    return f'This is the profile page for {username}'\n",
        "\n",
        "@app.route('/generate_urls')\n",
        "def generate_urls():\n",
        "    # Generate URLs using url_for()\n",
        "    index_url = url_for('index')  # URL for the 'index' route\n",
        "    about_url = url_for('about')  # URL for the 'about' route\n",
        "    profile_url = url_for('profile', username='alice')  # URL for the 'profile' route with username\n",
        "\n",
        "    # Display the generated URLs\n",
        "    return f\"\"\"\n",
        "        Index URL: {index_url}<br>\n",
        "        About URL: {about_url}<br>\n",
        "        Profile URL (for alice): {profile_url}\n",
        "    \"\"\"\n",
        "\n",
        "if __name__ == '__main__':\n",
        "    app.run(debug=True)"
      ],
      "metadata": {
        "id": "5ffCWs4MTvqV"
      },
      "execution_count": null,
      "outputs": []
    },
    {
      "cell_type": "code",
      "source": [
        "# 6.  How do you handle forms in Flask?\n",
        "\n",
        "from flask import Flask, render_template, request\n",
        "\n",
        "app = Flask(__name__)\n",
        "\n",
        "@app.route('/', methods=['GET', 'POST'])\n",
        "def index():\n",
        "    if request.method == 'POST':\n",
        "        name = request.form['name']\n",
        "        email = request.form['email']\n",
        "        # Process the form data (e.g., store it in a database)\n",
        "        return f\"Hello, {name}! Your email is {email}.\"\n",
        "    return render_template_string(\"\"\"  <!DOCTYPE html>\n",
        "\n",
        "<html>\n",
        "<head>\n",
        "    <title>Simple Form</title>\n",
        "</head>\n",
        "<body>\n",
        "    <form method=\"POST\">\n",
        "        <label for=\"name\">Name:</label>\n",
        "        <input type=\"text\" name=\"name\" id=\"name\"><br><br>\n",
        "        <label for=\"email\">Email:</label>\n",
        "        <input type=\"email\" name=\"email\" id=\"email\"><br><br>\n",
        "        <button type=\"submit\">Submit</button>\n",
        "    </form>\n",
        "</body>\n",
        "</html>\n",
        "\"\"\")  # Render the form template using a string\n",
        "\n",
        "if __name__ == '__main__':\n",
        "    app.run(debug=True)"
      ],
      "metadata": {
        "id": "cFMJxQiwTxI1"
      },
      "execution_count": null,
      "outputs": []
    },
    {
      "cell_type": "code",
      "source": [
        "#7. How can you validate form data in Flask?\n",
        "\n",
        "from flask import Flask, render_template_string, request, flash\n",
        "\n",
        "app = Flask(__name__)\n",
        "app.secret_key = 'your_secret_key'  # Set a secret key for flash messages\n",
        "\n",
        "@app.route('/', methods=['GET', 'POST'])\n",
        "def index():\n",
        "    if request.method == 'POST':\n",
        "        name = request.form['name']\n",
        "        email = request.form['email']\n",
        "\n",
        "        # Basic validation\n",
        "        if not name or not email:\n",
        "            flash('Please fill in all fields.')\n",
        "        elif not email.endswith('@example.com'): # Example validation rule\n",
        "            flash('Invalid email format. Please use @example.com.')\n",
        "        else:\n",
        "            # Process the valid form data (e.g., store it in a database)\n",
        "            return f\"Hello, {name}! Your email is {email}.\"\n",
        "\n",
        "    return render_template_string(\"\"\"\n",
        "<!DOCTYPE html>\n",
        "<html>\n",
        "<head>\n",
        "    <title>Form Validation</title>\n",
        "</head>\n",
        "<body>\n",
        "    {% with messages = get_flashed_messages() %}\n",
        "        {% if messages %}\n",
        "            <ul class=\"flashes\">\n",
        "            {% for message in messages %}\n",
        "                <li>{{ message }}</li>\n",
        "            {% endfor %}\n",
        "            </ul>\n",
        "        {% endif %}\n",
        "    {% endwith %}\n",
        "    <form method=\"POST\">\n",
        "        <label for=\"name\">Name:</label>\n",
        "        <input type=\"text\" name=\"name\" id=\"name\"><br><br>\n",
        "        <label for=\"email\">Email:</label>\n",
        "        <input type=\"email\" name=\"email\" id=\"email\"><br><br>\n",
        "        <button type=\"submit\">Submit</button>\n",
        "    </form>\n",
        "</body>\n",
        "</html>\n",
        "\"\"\")\n",
        "\n",
        "if __name__ == '__main__':\n",
        "    app.run(debug=True)"
      ],
      "metadata": {
        "id": "1q79b7uEUjD7"
      },
      "execution_count": null,
      "outputs": []
    },
    {
      "cell_type": "code",
      "source": [
        "#8. How do you manage sessions in Flask?\n",
        "\n",
        "from flask import Flask, session, render_template_string, request, redirect, url_for\n",
        "\n",
        "app = Flask(__name__)\n",
        "app.secret_key = 'your_secret_key'  # Set a secret key for sessions\n",
        "\n",
        "@app.route('/', methods=['GET', 'POST'])\n",
        "def index():\n",
        "    if request.method == 'POST':\n",
        "        username = request.form['username']\n",
        "        session['username'] = username  # Store username in session\n",
        "        return redirect(url_for('profile'))  # Redirect to profile page\n",
        "    return render_template_string(\"\"\"\n",
        "        <form method=\"POST\">\n",
        "            <input type=\"text\" name=\"username\" placeholder=\"Username\">\n",
        "            <button type=\"submit\">Login</button>\n",
        "        </form>\n",
        "    \"\"\")\n",
        "\n",
        "@app.route('/profile')\n",
        "def profile():\n",
        "    if 'username' in session:\n",
        "        username = session['username']\n",
        "        return f'<h1>Welcome, {username}!</h1><a href=\"/logout\">Logout</a>'\n",
        "    return redirect(url_for('index'))  # Redirect to login if not logged in\n",
        "\n",
        "@app.route('/logout')\n",
        "def logout():\n",
        "    session.pop('username', None)  # Remove username from session\n",
        "    return redirect(url_for('index'))  # Redirect to login page\n",
        "\n",
        "if __name__ == '__main__':\n",
        "    app.run(debug=True)"
      ],
      "metadata": {
        "id": "Rduz2Lg7VDbN"
      },
      "execution_count": null,
      "outputs": []
    },
    {
      "cell_type": "code",
      "source": [
        "#9. How do you redirect to a different route in Flask?\n",
        "\n",
        "from flask import Flask, redirect, url_for\n",
        "\n",
        "app = Flask(__name__)\n",
        "\n",
        "@app.route('/')\n",
        "def index():\n",
        "    return 'This is the index page. <a href=\"/redirect_to_about\">Redirect to About</a>'\n",
        "\n",
        "@app.route('/about')\n",
        "def about():\n",
        "    return 'This is the about page.'\n",
        "\n",
        "@app.route('/redirect_to_about')\n",
        "def redirect_to_about():\n",
        "    return redirect(url_for('about'))\n",
        "\n",
        "if __name__ == '__main__':\n",
        "    app.run(debug=True)"
      ],
      "metadata": {
        "id": "GyLnng5YVZxk"
      },
      "execution_count": null,
      "outputs": []
    },
    {
      "cell_type": "code",
      "source": [
        "#10.  How do you handle errors in Flask (e.g., 404)?\n",
        "from flask import Flask, render_template_string\n",
        "\n",
        "app = Flask(__name__)\n",
        "\n",
        "@app.errorhandler(404)\n",
        "def page_not_found(error):\n",
        "    return render_template_string(\"\"\"\n",
        "        <h1>404 - Page Not Found</h1>\n",
        "        <p>Sorry, the page you are looking for does not exist.</p>\n",
        "    \"\"\"), 404  # Return the template and the 404 status code\n",
        "\n",
        "@app.route('/')\n",
        "def index():\n",
        "    return 'This is the index page.'\n",
        "\n",
        "if __name__ == '__main__':\n",
        "    app.run(debug=True)"
      ],
      "metadata": {
        "id": "e48YtmMHVxIh"
      },
      "execution_count": null,
      "outputs": []
    },
    {
      "cell_type": "code",
      "source": [
        "#11.  How do you structure a Flask app using Blueprints?\n",
        "\n",
        "from flask import Flask, Blueprint, render_template_string\n",
        "\n",
        "app = Flask(__name__)\n",
        "\n",
        "# Create a Blueprint for 'admin' functionality\n",
        "admin_bp = Blueprint('admin', __name__, template_folder='templates')\n",
        "\n",
        "# Route within the 'admin' Blueprint\n",
        "@admin_bp.route('/dashboard')\n",
        "def admin_dashboard():\n",
        "    return render_template_string(\"<h1>Admin Dashboard</h1>\")\n",
        "\n",
        "# Register the Blueprint with the app\n",
        "app.register_blueprint(admin_bp, url_prefix='/admin')\n",
        "\n",
        "# Main app route\n",
        "@app.route('/')\n",
        "def index():\n",
        "    return render_template_string(\"<h1>Main Index Page</h1>\")\n",
        "\n",
        "if __name__ == '__main__':\n",
        "    app.run(debug=True)"
      ],
      "metadata": {
        "id": "NjPcQ5U5WGOF"
      },
      "execution_count": null,
      "outputs": []
    },
    {
      "cell_type": "code",
      "source": [
        "#12. How do you define a custom Jinja filter in Flask?\n",
        "\n",
        "from flask import Flask, render_template_string\n",
        "\n",
        "app = Flask(__name__)\n",
        "\n",
        "# Define a custom filter\n",
        "def reverse_string(s):\n",
        "    return s[::-1]\n",
        "\n",
        "# Register the filter with Jinja2\n",
        "app.jinja_env.filters['reverse'] = reverse_string\n",
        "\n",
        "@app.route('/')\n",
        "def index():\n",
        "    my_string = \"Hello, World!\"\n",
        "    return render_template_string('{{ my_string | reverse }}', my_string=my_string)\n",
        "\n",
        "if __name__ == '__main__':\n",
        "    app.run(debug=True)"
      ],
      "metadata": {
        "id": "2a4WKaP6Wnff"
      },
      "execution_count": null,
      "outputs": []
    },
    {
      "cell_type": "code",
      "source": [
        "#13. How can you redirect with query parameters in Flask?\n",
        "\n",
        "from flask import Flask, redirect, url_for\n",
        "\n",
        "app = Flask(__name__)\n",
        "\n",
        "@app.route('/')\n",
        "def index():\n",
        "    return '<h1><a href=\"' + url_for('login', next='/dashboard') + '\">Login</a></h1>'\n",
        "\n",
        "@app.route('/login')\n",
        "def login():\n",
        "    next_page = request.args.get('next')  # Get the 'next' query parameter\n",
        "    if next_page:\n",
        "        return redirect(next_page)  # Redirect to the 'next' page\n",
        "    return '<h1>Logged in!</h1>'  # If 'next' is not provided, display a message\n",
        "\n",
        "if __name__ == '__main__':\n",
        "    app.run(debug=True)"
      ],
      "metadata": {
        "id": "vibHdyI_Wohc"
      },
      "execution_count": null,
      "outputs": []
    },
    {
      "cell_type": "code",
      "source": [
        "#14. How do you return JSON responses in Flask?\n",
        "from flask import Flask, jsonify\n",
        "\n",
        "app = Flask(__name__)\n",
        "\n",
        "@app.route('/data')\n",
        "def get_data():\n",
        "    data = {\n",
        "        'name': 'Dhruv',\n",
        "        'age': 17,\n",
        "        'city': 'Noida'\n",
        "    }\n",
        "    return jsonify(data)  # Return data as JSON\n",
        "\n",
        "if __name__ == '__main__':\n",
        "    app.run(debug=True)"
      ],
      "metadata": {
        "id": "_rzUSjj_XQy_"
      },
      "execution_count": null,
      "outputs": []
    },
    {
      "cell_type": "code",
      "source": [
        "#15.  How do you capture URL parameters in Flask?\n",
        "\n",
        "from flask import Flask\n",
        "\n",
        "app = Flask(__name__)\n",
        "\n",
        "@app.route('/user/<username>')\n",
        "def show_user_profile(username):\n",
        "    # show the user profile for that user\n",
        "    return f'User {username}'\n",
        "\n",
        "@app.route('/post/<int:post_id>')\n",
        "def show_post(post_id):\n",
        "    # show the post with the given id, the id is an integer\n",
        "    return f'Post {post_id}'\n",
        "\n",
        "if __name__ == '__main__':\n",
        "    app.run(debug=True)"
      ],
      "metadata": {
        "id": "3DSfnJWHXRp2"
      },
      "execution_count": null,
      "outputs": []
    }
  ]
}